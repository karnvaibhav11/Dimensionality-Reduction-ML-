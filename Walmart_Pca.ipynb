{
  "nbformat": 4,
  "nbformat_minor": 0,
  "metadata": {
    "kernelspec": {
      "display_name": "Python 3",
      "language": "python",
      "name": "python3"
    },
    "language_info": {
      "codemirror_mode": {
        "name": "ipython",
        "version": 3
      },
      "file_extension": ".py",
      "mimetype": "text/x-python",
      "name": "python",
      "nbconvert_exporter": "python",
      "pygments_lexer": "ipython3",
      "version": "3.7.6"
    },
    "colab": {
      "name": "Walmart Pca.ipynb",
      "provenance": [],
      "collapsed_sections": []
    }
  },
  "cells": [
    {
      "cell_type": "code",
      "metadata": {
        "id": "t5nFnsZRDASA"
      },
      "source": [
        "import pandas as pd"
      ],
      "execution_count": null,
      "outputs": []
    },
    {
      "cell_type": "code",
      "metadata": {
        "id": "3JtlpvQODASF"
      },
      "source": [
        "walmart=pd.read_csv(\"Walmart.csv\")"
      ],
      "execution_count": null,
      "outputs": []
    },
    {
      "cell_type": "code",
      "metadata": {
        "id": "BeHRPBNxDASF",
        "outputId": "ff9e8972-9885-4fe5-9075-5e3a82c8d96d"
      },
      "source": [
        "walmart.head()"
      ],
      "execution_count": null,
      "outputs": [
        {
          "data": {
            "text/html": [
              "<div>\n",
              "<style scoped>\n",
              "    .dataframe tbody tr th:only-of-type {\n",
              "        vertical-align: middle;\n",
              "    }\n",
              "\n",
              "    .dataframe tbody tr th {\n",
              "        vertical-align: top;\n",
              "    }\n",
              "\n",
              "    .dataframe thead th {\n",
              "        text-align: right;\n",
              "    }\n",
              "</style>\n",
              "<table border=\"1\" class=\"dataframe\">\n",
              "  <thead>\n",
              "    <tr style=\"text-align: right;\">\n",
              "      <th></th>\n",
              "      <th>Respondent</th>\n",
              "      <th>Product_Quality</th>\n",
              "      <th>E_Commerce</th>\n",
              "      <th>Technical_Support</th>\n",
              "      <th>Complaint_Resolution</th>\n",
              "      <th>Advertising</th>\n",
              "      <th>Product_Line</th>\n",
              "      <th>Salesforce_Image</th>\n",
              "      <th>Competitive_Pricing</th>\n",
              "      <th>Warranty&amp;Claims</th>\n",
              "      <th>Packaging</th>\n",
              "      <th>Order&amp;Billing</th>\n",
              "      <th>Price_Flexibility</th>\n",
              "      <th>Delivery_Speed</th>\n",
              "    </tr>\n",
              "  </thead>\n",
              "  <tbody>\n",
              "    <tr>\n",
              "      <th>0</th>\n",
              "      <td>1</td>\n",
              "      <td>8.5</td>\n",
              "      <td>3.9</td>\n",
              "      <td>2.5</td>\n",
              "      <td>5.9</td>\n",
              "      <td>4.8</td>\n",
              "      <td>4.9</td>\n",
              "      <td>6.0</td>\n",
              "      <td>6.8</td>\n",
              "      <td>4.7</td>\n",
              "      <td>4.3</td>\n",
              "      <td>5.0</td>\n",
              "      <td>5.1</td>\n",
              "      <td>3.7</td>\n",
              "    </tr>\n",
              "    <tr>\n",
              "      <th>1</th>\n",
              "      <td>2</td>\n",
              "      <td>8.2</td>\n",
              "      <td>2.7</td>\n",
              "      <td>5.1</td>\n",
              "      <td>7.2</td>\n",
              "      <td>3.4</td>\n",
              "      <td>7.9</td>\n",
              "      <td>3.1</td>\n",
              "      <td>5.3</td>\n",
              "      <td>5.5</td>\n",
              "      <td>4.0</td>\n",
              "      <td>3.9</td>\n",
              "      <td>4.3</td>\n",
              "      <td>4.9</td>\n",
              "    </tr>\n",
              "    <tr>\n",
              "      <th>2</th>\n",
              "      <td>3</td>\n",
              "      <td>9.2</td>\n",
              "      <td>3.4</td>\n",
              "      <td>5.6</td>\n",
              "      <td>5.6</td>\n",
              "      <td>5.4</td>\n",
              "      <td>7.4</td>\n",
              "      <td>5.8</td>\n",
              "      <td>4.5</td>\n",
              "      <td>6.2</td>\n",
              "      <td>4.6</td>\n",
              "      <td>5.4</td>\n",
              "      <td>4.0</td>\n",
              "      <td>4.5</td>\n",
              "    </tr>\n",
              "    <tr>\n",
              "      <th>3</th>\n",
              "      <td>4</td>\n",
              "      <td>6.4</td>\n",
              "      <td>3.3</td>\n",
              "      <td>7.0</td>\n",
              "      <td>3.7</td>\n",
              "      <td>4.7</td>\n",
              "      <td>4.7</td>\n",
              "      <td>4.5</td>\n",
              "      <td>8.8</td>\n",
              "      <td>7.0</td>\n",
              "      <td>3.6</td>\n",
              "      <td>4.3</td>\n",
              "      <td>4.1</td>\n",
              "      <td>3.0</td>\n",
              "    </tr>\n",
              "    <tr>\n",
              "      <th>4</th>\n",
              "      <td>5</td>\n",
              "      <td>9.0</td>\n",
              "      <td>3.4</td>\n",
              "      <td>5.2</td>\n",
              "      <td>4.6</td>\n",
              "      <td>2.2</td>\n",
              "      <td>6.0</td>\n",
              "      <td>4.5</td>\n",
              "      <td>6.8</td>\n",
              "      <td>6.1</td>\n",
              "      <td>4.5</td>\n",
              "      <td>4.5</td>\n",
              "      <td>3.5</td>\n",
              "      <td>3.5</td>\n",
              "    </tr>\n",
              "  </tbody>\n",
              "</table>\n",
              "</div>"
            ],
            "text/plain": [
              "   Respondent  Product_Quality  E_Commerce  Technical_Support  \\\n",
              "0           1              8.5         3.9                2.5   \n",
              "1           2              8.2         2.7                5.1   \n",
              "2           3              9.2         3.4                5.6   \n",
              "3           4              6.4         3.3                7.0   \n",
              "4           5              9.0         3.4                5.2   \n",
              "\n",
              "   Complaint_Resolution  Advertising  Product_Line  Salesforce_Image  \\\n",
              "0                   5.9          4.8           4.9               6.0   \n",
              "1                   7.2          3.4           7.9               3.1   \n",
              "2                   5.6          5.4           7.4               5.8   \n",
              "3                   3.7          4.7           4.7               4.5   \n",
              "4                   4.6          2.2           6.0               4.5   \n",
              "\n",
              "   Competitive_Pricing  Warranty&Claims  Packaging  Order&Billing  \\\n",
              "0                  6.8              4.7        4.3            5.0   \n",
              "1                  5.3              5.5        4.0            3.9   \n",
              "2                  4.5              6.2        4.6            5.4   \n",
              "3                  8.8              7.0        3.6            4.3   \n",
              "4                  6.8              6.1        4.5            4.5   \n",
              "\n",
              "   Price_Flexibility  Delivery_Speed  \n",
              "0                5.1             3.7  \n",
              "1                4.3             4.9  \n",
              "2                4.0             4.5  \n",
              "3                4.1             3.0  \n",
              "4                3.5             3.5  "
            ]
          },
          "execution_count": 3,
          "metadata": {},
          "output_type": "execute_result"
        }
      ]
    },
    {
      "cell_type": "code",
      "metadata": {
        "id": "XBkMvP-TDASG",
        "outputId": "5b6dee80-f461-4d68-b871-a222aa031340"
      },
      "source": [
        "walmart.shape"
      ],
      "execution_count": null,
      "outputs": [
        {
          "data": {
            "text/plain": [
              "(200, 14)"
            ]
          },
          "execution_count": 4,
          "metadata": {},
          "output_type": "execute_result"
        }
      ]
    },
    {
      "cell_type": "code",
      "metadata": {
        "id": "ektZm_orDASH"
      },
      "source": [
        "x=walmart.iloc[:,1:]"
      ],
      "execution_count": null,
      "outputs": []
    },
    {
      "cell_type": "code",
      "metadata": {
        "id": "uu4rD2VKDASI"
      },
      "source": [
        "from sklearn.decomposition import PCA"
      ],
      "execution_count": null,
      "outputs": []
    },
    {
      "cell_type": "code",
      "metadata": {
        "id": "qTogO8gRDASJ"
      },
      "source": [
        "pcaModel=PCA(n_components=13)"
      ],
      "execution_count": null,
      "outputs": []
    },
    {
      "cell_type": "code",
      "metadata": {
        "id": "2TSHtNoMDASJ",
        "outputId": "1134c9a4-87a3-4b74-daf1-c6ffdea88434"
      },
      "source": [
        "pcaModel.fit(x)"
      ],
      "execution_count": null,
      "outputs": [
        {
          "data": {
            "text/plain": [
              "PCA(copy=True, iterated_power='auto', n_components=13, random_state=None,\n",
              "    svd_solver='auto', tol=0.0, whiten=False)"
            ]
          },
          "execution_count": 8,
          "metadata": {},
          "output_type": "execute_result"
        }
      ]
    },
    {
      "cell_type": "code",
      "metadata": {
        "id": "MZmFdnx9DASL",
        "outputId": "3c1251c0-cc21-4e22-c5ca-32e17b77b277"
      },
      "source": [
        "pcaModel.explained_variance_"
      ],
      "execution_count": null,
      "outputs": [
        {
          "data": {
            "text/plain": [
              "array([5.03307718, 4.17009745, 3.01231876, 2.08232407, 1.7598727 ,\n",
              "       1.21633739, 0.73686911, 0.56591811, 0.27123224, 0.18682994,\n",
              "       0.1684795 , 0.14154236, 0.00786803])"
            ]
          },
          "execution_count": 9,
          "metadata": {},
          "output_type": "execute_result"
        }
      ]
    },
    {
      "cell_type": "code",
      "metadata": {
        "id": "l0Y9vNIRDASL",
        "outputId": "85702793-9316-4af7-b129-866768ff4a1c"
      },
      "source": [
        "pcaModel.explained_variance_ratio_"
      ],
      "execution_count": null,
      "outputs": [
        {
          "data": {
            "text/plain": [
              "array([0.26007016, 0.2154781 , 0.15565313, 0.10759826, 0.09093649,\n",
              "       0.06285083, 0.03807565, 0.02924223, 0.01401517, 0.00965391,\n",
              "       0.00870571, 0.0073138 , 0.00040656])"
            ]
          },
          "execution_count": 10,
          "metadata": {},
          "output_type": "execute_result"
        }
      ]
    },
    {
      "cell_type": "code",
      "metadata": {
        "id": "FlM-yo7IDASM",
        "outputId": "ede26bd1-f752-423b-8afa-051b31124d87"
      },
      "source": [
        "pcaModel.explained_variance_ratio_*100"
      ],
      "execution_count": null,
      "outputs": [
        {
          "data": {
            "text/plain": [
              "array([26.00701604, 21.54781009, 15.56531314, 10.75982617,  9.09364906,\n",
              "        6.28508266,  3.80756465,  2.92422327,  1.40151661,  0.96539136,\n",
              "        0.87057061,  0.73138048,  0.04065587])"
            ]
          },
          "execution_count": 11,
          "metadata": {},
          "output_type": "execute_result"
        }
      ]
    },
    {
      "cell_type": "code",
      "metadata": {
        "id": "9JqHJxLRDASM"
      },
      "source": [
        "import numpy as np"
      ],
      "execution_count": null,
      "outputs": []
    },
    {
      "cell_type": "code",
      "metadata": {
        "id": "KsoB0jrwDASN",
        "outputId": "c6c22bb7-b758-4f0d-92b0-cd9f35274954"
      },
      "source": [
        "np.cumsum(pcaModel.explained_variance_ratio_*100)"
      ],
      "execution_count": null,
      "outputs": [
        {
          "data": {
            "text/plain": [
              "array([ 26.00701604,  47.55482614,  63.12013928,  73.87996544,\n",
              "        82.9736145 ,  89.25869716,  93.06626181,  95.99048508,\n",
              "        97.39200169,  98.35739305,  99.22796366,  99.95934413,\n",
              "       100.        ])"
            ]
          },
          "execution_count": 13,
          "metadata": {},
          "output_type": "execute_result"
        }
      ]
    },
    {
      "cell_type": "code",
      "metadata": {
        "id": "wT0ggx52DASN",
        "outputId": "db1d115d-9787-450e-965d-00d7cc443512"
      },
      "source": [
        "walmart.head(1)"
      ],
      "execution_count": null,
      "outputs": [
        {
          "data": {
            "text/html": [
              "<div>\n",
              "<style scoped>\n",
              "    .dataframe tbody tr th:only-of-type {\n",
              "        vertical-align: middle;\n",
              "    }\n",
              "\n",
              "    .dataframe tbody tr th {\n",
              "        vertical-align: top;\n",
              "    }\n",
              "\n",
              "    .dataframe thead th {\n",
              "        text-align: right;\n",
              "    }\n",
              "</style>\n",
              "<table border=\"1\" class=\"dataframe\">\n",
              "  <thead>\n",
              "    <tr style=\"text-align: right;\">\n",
              "      <th></th>\n",
              "      <th>Respondent</th>\n",
              "      <th>Product_Quality</th>\n",
              "      <th>E_Commerce</th>\n",
              "      <th>Technical_Support</th>\n",
              "      <th>Complaint_Resolution</th>\n",
              "      <th>Advertising</th>\n",
              "      <th>Product_Line</th>\n",
              "      <th>Salesforce_Image</th>\n",
              "      <th>Competitive_Pricing</th>\n",
              "      <th>Warranty&amp;Claims</th>\n",
              "      <th>Packaging</th>\n",
              "      <th>Order&amp;Billing</th>\n",
              "      <th>Price_Flexibility</th>\n",
              "      <th>Delivery_Speed</th>\n",
              "    </tr>\n",
              "  </thead>\n",
              "  <tbody>\n",
              "    <tr>\n",
              "      <th>0</th>\n",
              "      <td>1</td>\n",
              "      <td>8.5</td>\n",
              "      <td>3.9</td>\n",
              "      <td>2.5</td>\n",
              "      <td>5.9</td>\n",
              "      <td>4.8</td>\n",
              "      <td>4.9</td>\n",
              "      <td>6.0</td>\n",
              "      <td>6.8</td>\n",
              "      <td>4.7</td>\n",
              "      <td>4.3</td>\n",
              "      <td>5.0</td>\n",
              "      <td>5.1</td>\n",
              "      <td>3.7</td>\n",
              "    </tr>\n",
              "  </tbody>\n",
              "</table>\n",
              "</div>"
            ],
            "text/plain": [
              "   Respondent  Product_Quality  E_Commerce  Technical_Support  \\\n",
              "0           1              8.5         3.9                2.5   \n",
              "\n",
              "   Complaint_Resolution  Advertising  Product_Line  Salesforce_Image  \\\n",
              "0                   5.9          4.8           4.9               6.0   \n",
              "\n",
              "   Competitive_Pricing  Warranty&Claims  Packaging  Order&Billing  \\\n",
              "0                  6.8              4.7        4.3            5.0   \n",
              "\n",
              "   Price_Flexibility  Delivery_Speed  \n",
              "0                5.1             3.7  "
            ]
          },
          "execution_count": 14,
          "metadata": {},
          "output_type": "execute_result"
        }
      ]
    },
    {
      "cell_type": "code",
      "metadata": {
        "id": "w5_loq86DASO"
      },
      "source": [
        "x=walmart[['Product_Quality','E_Commerce']]"
      ],
      "execution_count": null,
      "outputs": []
    },
    {
      "cell_type": "code",
      "metadata": {
        "id": "QJtlQgP2DASO"
      },
      "source": [
        "pcaModel=PCA()"
      ],
      "execution_count": null,
      "outputs": []
    },
    {
      "cell_type": "code",
      "metadata": {
        "id": "Otwj1AcFDASO",
        "outputId": "bf250bb0-6a46-4288-d892-732241c5fcb8"
      },
      "source": [
        "pcaModel.fit(x)"
      ],
      "execution_count": null,
      "outputs": [
        {
          "data": {
            "text/plain": [
              "PCA(copy=True, iterated_power='auto', n_components=None, random_state=None,\n",
              "    svd_solver='auto', tol=0.0, whiten=False)"
            ]
          },
          "execution_count": 18,
          "metadata": {},
          "output_type": "execute_result"
        }
      ]
    },
    {
      "cell_type": "code",
      "metadata": {
        "id": "TcYx-__FDASO",
        "outputId": "b7d54494-ccb3-4d5e-d899-559a86f8c2e5"
      },
      "source": [
        "pcaModel.components_"
      ],
      "execution_count": null,
      "outputs": [
        {
          "data": {
            "text/plain": [
              "array([[-0.99961952,  0.02758297],\n",
              "       [ 0.02758297,  0.99961952]])"
            ]
          },
          "execution_count": 21,
          "metadata": {},
          "output_type": "execute_result"
        }
      ]
    },
    {
      "cell_type": "code",
      "metadata": {
        "id": "u3XrbrmUDASP",
        "outputId": "664c7538-436d-4642-9c9f-57704aedbc5b"
      },
      "source": [
        "pcaModel.explained_variance_ratio_"
      ],
      "execution_count": null,
      "outputs": [
        {
          "data": {
            "text/plain": [
              "array([0.76428358, 0.23571642])"
            ]
          },
          "execution_count": 22,
          "metadata": {},
          "output_type": "execute_result"
        }
      ]
    },
    {
      "cell_type": "code",
      "metadata": {
        "id": "_OrkQTvIDASP"
      },
      "source": [
        "pcaModel=PCA(n_components=8)"
      ],
      "execution_count": null,
      "outputs": []
    },
    {
      "cell_type": "code",
      "metadata": {
        "id": "R-uQGsU0DASP"
      },
      "source": [
        "x=walmart.iloc[:,1:]"
      ],
      "execution_count": null,
      "outputs": []
    },
    {
      "cell_type": "code",
      "metadata": {
        "id": "Tin8LwncDASQ",
        "outputId": "2413e44f-ac08-4aa4-965d-a3f8eb654c67"
      },
      "source": [
        "pcaModel.fit(x)"
      ],
      "execution_count": null,
      "outputs": [
        {
          "data": {
            "text/plain": [
              "PCA(copy=True, iterated_power='auto', n_components=8, random_state=None,\n",
              "    svd_solver='auto', tol=0.0, whiten=False)"
            ]
          },
          "execution_count": 26,
          "metadata": {},
          "output_type": "execute_result"
        }
      ]
    },
    {
      "cell_type": "code",
      "metadata": {
        "id": "q18KNy15DASQ",
        "outputId": "c87ca0eb-0cb9-4436-9a79-389e1ea47c4b"
      },
      "source": [
        "pd.DataFrame(pcaModel.components_)"
      ],
      "execution_count": null,
      "outputs": [
        {
          "data": {
            "text/html": [
              "<div>\n",
              "<style scoped>\n",
              "    .dataframe tbody tr th:only-of-type {\n",
              "        vertical-align: middle;\n",
              "    }\n",
              "\n",
              "    .dataframe tbody tr th {\n",
              "        vertical-align: top;\n",
              "    }\n",
              "\n",
              "    .dataframe thead th {\n",
              "        text-align: right;\n",
              "    }\n",
              "</style>\n",
              "<table border=\"1\" class=\"dataframe\">\n",
              "  <thead>\n",
              "    <tr style=\"text-align: right;\">\n",
              "      <th></th>\n",
              "      <th>0</th>\n",
              "      <th>1</th>\n",
              "      <th>2</th>\n",
              "      <th>3</th>\n",
              "      <th>4</th>\n",
              "      <th>5</th>\n",
              "      <th>6</th>\n",
              "      <th>7</th>\n",
              "      <th>8</th>\n",
              "      <th>9</th>\n",
              "      <th>10</th>\n",
              "      <th>11</th>\n",
              "      <th>12</th>\n",
              "    </tr>\n",
              "  </thead>\n",
              "  <tbody>\n",
              "    <tr>\n",
              "      <th>0</th>\n",
              "      <td>-0.430251</td>\n",
              "      <td>0.006899</td>\n",
              "      <td>-0.312715</td>\n",
              "      <td>-0.233400</td>\n",
              "      <td>-0.012857</td>\n",
              "      <td>-0.492678</td>\n",
              "      <td>0.017316</td>\n",
              "      <td>0.521613</td>\n",
              "      <td>-0.171361</td>\n",
              "      <td>-0.158096</td>\n",
              "      <td>-0.148671</td>\n",
              "      <td>0.227478</td>\n",
              "      <td>-0.138147</td>\n",
              "    </tr>\n",
              "    <tr>\n",
              "      <th>1</th>\n",
              "      <td>0.196277</td>\n",
              "      <td>-0.200681</td>\n",
              "      <td>-0.268891</td>\n",
              "      <td>-0.404501</td>\n",
              "      <td>-0.322217</td>\n",
              "      <td>-0.092655</td>\n",
              "      <td>-0.365899</td>\n",
              "      <td>-0.298209</td>\n",
              "      <td>-0.151451</td>\n",
              "      <td>-0.047960</td>\n",
              "      <td>-0.287778</td>\n",
              "      <td>-0.412694</td>\n",
              "      <td>-0.267749</td>\n",
              "    </tr>\n",
              "    <tr>\n",
              "      <th>2</th>\n",
              "      <td>0.099156</td>\n",
              "      <td>0.044335</td>\n",
              "      <td>-0.776101</td>\n",
              "      <td>0.198956</td>\n",
              "      <td>0.137399</td>\n",
              "      <td>0.173937</td>\n",
              "      <td>0.063635</td>\n",
              "      <td>-0.100831</td>\n",
              "      <td>-0.339734</td>\n",
              "      <td>0.341353</td>\n",
              "      <td>0.146381</td>\n",
              "      <td>0.097343</td>\n",
              "      <td>0.141752</td>\n",
              "    </tr>\n",
              "    <tr>\n",
              "      <th>3</th>\n",
              "      <td>0.076198</td>\n",
              "      <td>0.118380</td>\n",
              "      <td>-0.213915</td>\n",
              "      <td>0.119406</td>\n",
              "      <td>0.112076</td>\n",
              "      <td>0.192348</td>\n",
              "      <td>0.132366</td>\n",
              "      <td>-0.074622</td>\n",
              "      <td>-0.114659</td>\n",
              "      <td>-0.905005</td>\n",
              "      <td>0.039584</td>\n",
              "      <td>-0.106043</td>\n",
              "      <td>0.050216</td>\n",
              "    </tr>\n",
              "    <tr>\n",
              "      <th>4</th>\n",
              "      <td>0.211077</td>\n",
              "      <td>0.329201</td>\n",
              "      <td>0.005544</td>\n",
              "      <td>-0.365592</td>\n",
              "      <td>0.503231</td>\n",
              "      <td>-0.080994</td>\n",
              "      <td>0.516619</td>\n",
              "      <td>-0.003806</td>\n",
              "      <td>0.027400</td>\n",
              "      <td>0.142961</td>\n",
              "      <td>-0.213090</td>\n",
              "      <td>-0.290146</td>\n",
              "      <td>-0.189454</td>\n",
              "    </tr>\n",
              "    <tr>\n",
              "      <th>5</th>\n",
              "      <td>-0.605727</td>\n",
              "      <td>-0.004132</td>\n",
              "      <td>0.021772</td>\n",
              "      <td>-0.044879</td>\n",
              "      <td>0.172338</td>\n",
              "      <td>-0.164791</td>\n",
              "      <td>0.087911</td>\n",
              "      <td>-0.739646</td>\n",
              "      <td>-0.023072</td>\n",
              "      <td>-0.016549</td>\n",
              "      <td>-0.016125</td>\n",
              "      <td>0.132980</td>\n",
              "      <td>-0.013345</td>\n",
              "    </tr>\n",
              "    <tr>\n",
              "      <th>6</th>\n",
              "      <td>0.585560</td>\n",
              "      <td>-0.029479</td>\n",
              "      <td>0.050344</td>\n",
              "      <td>-0.007888</td>\n",
              "      <td>0.085386</td>\n",
              "      <td>-0.553143</td>\n",
              "      <td>-0.041339</td>\n",
              "      <td>-0.247509</td>\n",
              "      <td>-0.054845</td>\n",
              "      <td>-0.107283</td>\n",
              "      <td>0.113421</td>\n",
              "      <td>0.499968</td>\n",
              "      <td>-0.008766</td>\n",
              "    </tr>\n",
              "    <tr>\n",
              "      <th>7</th>\n",
              "      <td>-0.007170</td>\n",
              "      <td>-0.386772</td>\n",
              "      <td>0.087039</td>\n",
              "      <td>-0.027190</td>\n",
              "      <td>0.734403</td>\n",
              "      <td>0.127772</td>\n",
              "      <td>-0.485203</td>\n",
              "      <td>0.108120</td>\n",
              "      <td>-0.100807</td>\n",
              "      <td>-0.031539</td>\n",
              "      <td>-0.158686</td>\n",
              "      <td>0.024758</td>\n",
              "      <td>0.047997</td>\n",
              "    </tr>\n",
              "  </tbody>\n",
              "</table>\n",
              "</div>"
            ],
            "text/plain": [
              "          0         1         2         3         4         5         6  \\\n",
              "0 -0.430251  0.006899 -0.312715 -0.233400 -0.012857 -0.492678  0.017316   \n",
              "1  0.196277 -0.200681 -0.268891 -0.404501 -0.322217 -0.092655 -0.365899   \n",
              "2  0.099156  0.044335 -0.776101  0.198956  0.137399  0.173937  0.063635   \n",
              "3  0.076198  0.118380 -0.213915  0.119406  0.112076  0.192348  0.132366   \n",
              "4  0.211077  0.329201  0.005544 -0.365592  0.503231 -0.080994  0.516619   \n",
              "5 -0.605727 -0.004132  0.021772 -0.044879  0.172338 -0.164791  0.087911   \n",
              "6  0.585560 -0.029479  0.050344 -0.007888  0.085386 -0.553143 -0.041339   \n",
              "7 -0.007170 -0.386772  0.087039 -0.027190  0.734403  0.127772 -0.485203   \n",
              "\n",
              "          7         8         9        10        11        12  \n",
              "0  0.521613 -0.171361 -0.158096 -0.148671  0.227478 -0.138147  \n",
              "1 -0.298209 -0.151451 -0.047960 -0.287778 -0.412694 -0.267749  \n",
              "2 -0.100831 -0.339734  0.341353  0.146381  0.097343  0.141752  \n",
              "3 -0.074622 -0.114659 -0.905005  0.039584 -0.106043  0.050216  \n",
              "4 -0.003806  0.027400  0.142961 -0.213090 -0.290146 -0.189454  \n",
              "5 -0.739646 -0.023072 -0.016549 -0.016125  0.132980 -0.013345  \n",
              "6 -0.247509 -0.054845 -0.107283  0.113421  0.499968 -0.008766  \n",
              "7  0.108120 -0.100807 -0.031539 -0.158686  0.024758  0.047997  "
            ]
          },
          "execution_count": 28,
          "metadata": {},
          "output_type": "execute_result"
        }
      ]
    },
    {
      "cell_type": "code",
      "metadata": {
        "id": "yFbqZAkcDASQ",
        "outputId": "2b42df09-ceee-4113-d0ad-ae1c72ac1648"
      },
      "source": [
        "pd.DataFrame(pcaModel.transform(x))"
      ],
      "execution_count": null,
      "outputs": [
        {
          "data": {
            "text/html": [
              "<div>\n",
              "<style scoped>\n",
              "    .dataframe tbody tr th:only-of-type {\n",
              "        vertical-align: middle;\n",
              "    }\n",
              "\n",
              "    .dataframe tbody tr th {\n",
              "        vertical-align: top;\n",
              "    }\n",
              "\n",
              "    .dataframe thead th {\n",
              "        text-align: right;\n",
              "    }\n",
              "</style>\n",
              "<table border=\"1\" class=\"dataframe\">\n",
              "  <thead>\n",
              "    <tr style=\"text-align: right;\">\n",
              "      <th></th>\n",
              "      <th>0</th>\n",
              "      <th>1</th>\n",
              "      <th>2</th>\n",
              "      <th>3</th>\n",
              "      <th>4</th>\n",
              "      <th>5</th>\n",
              "      <th>6</th>\n",
              "      <th>7</th>\n",
              "    </tr>\n",
              "  </thead>\n",
              "  <tbody>\n",
              "    <tr>\n",
              "      <th>0</th>\n",
              "      <td>1.261857</td>\n",
              "      <td>0.035032</td>\n",
              "      <td>2.612028</td>\n",
              "      <td>1.666938</td>\n",
              "      <td>0.306171</td>\n",
              "      <td>0.139477</td>\n",
              "      <td>1.365607</td>\n",
              "      <td>-0.213154</td>\n",
              "    </tr>\n",
              "    <tr>\n",
              "      <th>1</th>\n",
              "      <td>-2.300377</td>\n",
              "      <td>0.892197</td>\n",
              "      <td>0.623032</td>\n",
              "      <td>1.530609</td>\n",
              "      <td>-2.834839</td>\n",
              "      <td>0.325148</td>\n",
              "      <td>-0.488818</td>\n",
              "      <td>1.185301</td>\n",
              "    </tr>\n",
              "    <tr>\n",
              "      <th>2</th>\n",
              "      <td>-3.109430</td>\n",
              "      <td>-0.222265</td>\n",
              "      <td>0.587819</td>\n",
              "      <td>1.384567</td>\n",
              "      <td>0.587419</td>\n",
              "      <td>0.970545</td>\n",
              "      <td>0.568521</td>\n",
              "      <td>0.648647</td>\n",
              "    </tr>\n",
              "    <tr>\n",
              "      <th>3</th>\n",
              "      <td>2.074414</td>\n",
              "      <td>-0.086868</td>\n",
              "      <td>-3.217971</td>\n",
              "      <td>0.226088</td>\n",
              "      <td>0.212849</td>\n",
              "      <td>-0.138574</td>\n",
              "      <td>-0.557674</td>\n",
              "      <td>1.173456</td>\n",
              "    </tr>\n",
              "    <tr>\n",
              "      <th>4</th>\n",
              "      <td>-0.565644</td>\n",
              "      <td>1.954175</td>\n",
              "      <td>-0.640682</td>\n",
              "      <td>0.432996</td>\n",
              "      <td>-0.759454</td>\n",
              "      <td>-1.043056</td>\n",
              "      <td>0.097709</td>\n",
              "      <td>-0.911400</td>\n",
              "    </tr>\n",
              "    <tr>\n",
              "      <th>...</th>\n",
              "      <td>...</td>\n",
              "      <td>...</td>\n",
              "      <td>...</td>\n",
              "      <td>...</td>\n",
              "      <td>...</td>\n",
              "      <td>...</td>\n",
              "      <td>...</td>\n",
              "      <td>...</td>\n",
              "    </tr>\n",
              "    <tr>\n",
              "      <th>195</th>\n",
              "      <td>-0.716244</td>\n",
              "      <td>1.615277</td>\n",
              "      <td>4.007326</td>\n",
              "      <td>-0.106590</td>\n",
              "      <td>0.598246</td>\n",
              "      <td>1.964789</td>\n",
              "      <td>-0.405601</td>\n",
              "      <td>0.183772</td>\n",
              "    </tr>\n",
              "    <tr>\n",
              "      <th>196</th>\n",
              "      <td>1.765342</td>\n",
              "      <td>-3.558113</td>\n",
              "      <td>3.171253</td>\n",
              "      <td>-0.800679</td>\n",
              "      <td>-2.527507</td>\n",
              "      <td>0.287694</td>\n",
              "      <td>-0.195743</td>\n",
              "      <td>-1.253719</td>\n",
              "    </tr>\n",
              "    <tr>\n",
              "      <th>197</th>\n",
              "      <td>-3.175512</td>\n",
              "      <td>-1.643683</td>\n",
              "      <td>-1.297863</td>\n",
              "      <td>0.508503</td>\n",
              "      <td>1.567962</td>\n",
              "      <td>-1.110793</td>\n",
              "      <td>-0.223519</td>\n",
              "      <td>0.335275</td>\n",
              "    </tr>\n",
              "    <tr>\n",
              "      <th>198</th>\n",
              "      <td>-0.102231</td>\n",
              "      <td>-5.255834</td>\n",
              "      <td>-0.309380</td>\n",
              "      <td>0.200532</td>\n",
              "      <td>1.219923</td>\n",
              "      <td>2.851427</td>\n",
              "      <td>0.171285</td>\n",
              "      <td>-0.526349</td>\n",
              "    </tr>\n",
              "    <tr>\n",
              "      <th>199</th>\n",
              "      <td>-1.767066</td>\n",
              "      <td>-0.688252</td>\n",
              "      <td>-1.074384</td>\n",
              "      <td>4.534409</td>\n",
              "      <td>1.159135</td>\n",
              "      <td>-1.082030</td>\n",
              "      <td>0.065181</td>\n",
              "      <td>0.257742</td>\n",
              "    </tr>\n",
              "  </tbody>\n",
              "</table>\n",
              "<p>200 rows × 8 columns</p>\n",
              "</div>"
            ],
            "text/plain": [
              "            0         1         2         3         4         5         6  \\\n",
              "0    1.261857  0.035032  2.612028  1.666938  0.306171  0.139477  1.365607   \n",
              "1   -2.300377  0.892197  0.623032  1.530609 -2.834839  0.325148 -0.488818   \n",
              "2   -3.109430 -0.222265  0.587819  1.384567  0.587419  0.970545  0.568521   \n",
              "3    2.074414 -0.086868 -3.217971  0.226088  0.212849 -0.138574 -0.557674   \n",
              "4   -0.565644  1.954175 -0.640682  0.432996 -0.759454 -1.043056  0.097709   \n",
              "..        ...       ...       ...       ...       ...       ...       ...   \n",
              "195 -0.716244  1.615277  4.007326 -0.106590  0.598246  1.964789 -0.405601   \n",
              "196  1.765342 -3.558113  3.171253 -0.800679 -2.527507  0.287694 -0.195743   \n",
              "197 -3.175512 -1.643683 -1.297863  0.508503  1.567962 -1.110793 -0.223519   \n",
              "198 -0.102231 -5.255834 -0.309380  0.200532  1.219923  2.851427  0.171285   \n",
              "199 -1.767066 -0.688252 -1.074384  4.534409  1.159135 -1.082030  0.065181   \n",
              "\n",
              "            7  \n",
              "0   -0.213154  \n",
              "1    1.185301  \n",
              "2    0.648647  \n",
              "3    1.173456  \n",
              "4   -0.911400  \n",
              "..        ...  \n",
              "195  0.183772  \n",
              "196 -1.253719  \n",
              "197  0.335275  \n",
              "198 -0.526349  \n",
              "199  0.257742  \n",
              "\n",
              "[200 rows x 8 columns]"
            ]
          },
          "execution_count": 30,
          "metadata": {},
          "output_type": "execute_result"
        }
      ]
    },
    {
      "cell_type": "code",
      "metadata": {
        "id": "12InZRZ2DASR"
      },
      "source": [
        ""
      ],
      "execution_count": null,
      "outputs": []
    },
    {
      "cell_type": "code",
      "metadata": {
        "id": "Z8TXFO0gDASR"
      },
      "source": [
        ""
      ],
      "execution_count": null,
      "outputs": []
    },
    {
      "cell_type": "code",
      "metadata": {
        "id": "NpLY1t04DASR"
      },
      "source": [
        ""
      ],
      "execution_count": null,
      "outputs": []
    },
    {
      "cell_type": "code",
      "metadata": {
        "id": "IqiRvj5DDASR"
      },
      "source": [
        ""
      ],
      "execution_count": null,
      "outputs": []
    }
  ]
}